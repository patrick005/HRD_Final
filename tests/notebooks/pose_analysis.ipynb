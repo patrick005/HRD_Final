{
 "cells": [
  {
   "cell_type": "code",
   "execution_count": null,
   "id": "807804cd",
   "metadata": {
    "vscode": {
     "languageId": "plaintext"
    }
   },
   "outputs": [],
   "source": [
    "# pose_analysis.ipynb\n",
    "# OpenPose 또는 MediaPipe 기반 신체 비율 추정\n",
    "# 이미지에서 keypoint 추출\n",
    "# 어깨/골반 등 비율 분석\n",
    "# JSON 형식으로 반환\n"
   ]
  },
  {
   "cell_type": "code",
   "execution_count": null,
   "id": "214a88d0",
   "metadata": {
    "vscode": {
     "languageId": "plaintext"
    }
   },
   "outputs": [],
   "source": [
    "# 신체 비율 추출 예제 (MediaPipe 기반)\n",
    "\n",
    "import mediapipe as mp\n",
    "import cv2\n",
    "import numpy as np\n",
    "from PIL import Image\n",
    "from matplotlib import pyplot as plt\n",
    "\n",
    "mp_pose = mp.solutions.pose"
   ]
  },
  {
   "cell_type": "code",
   "execution_count": null,
   "id": "c8763bfc",
   "metadata": {
    "vscode": {
     "languageId": "plaintext"
    }
   },
   "outputs": [],
   "source": [
    "# 이미지 불러오기\n",
    "img_path = \"/content/person.jpg\"\n",
    "img = cv2.imread(img_path)\n",
    "img_rgb = cv2.cvtColor(img, cv2.COLOR_BGR2RGB)"
   ]
  },
  {
   "cell_type": "code",
   "execution_count": null,
   "id": "5ef7e31f",
   "metadata": {
    "vscode": {
     "languageId": "plaintext"
    }
   },
   "outputs": [],
   "source": [
    "# 포즈 추론\n",
    "with mp_pose.Pose(static_image_mode=True) as pose:\n",
    "    result = pose.process(img_rgb)"
   ]
  },
  {
   "cell_type": "code",
   "execution_count": null,
   "id": "19fe6efd",
   "metadata": {
    "vscode": {
     "languageId": "plaintext"
    }
   },
   "outputs": [],
   "source": [
    "# 좌표 추출 및 비율 계산\n",
    "if result.pose_landmarks:\n",
    "    landmarks = result.pose_landmarks.landmark\n",
    "    left_shoulder = landmarks[mp_pose.PoseLandmark.LEFT_SHOULDER]\n",
    "    right_shoulder = landmarks[mp_pose.PoseLandmark.RIGHT_SHOULDER]\n",
    "    left_hip = landmarks[mp_pose.PoseLandmark.LEFT_HIP]\n",
    "    right_hip = landmarks[mp_pose.PoseLandmark.RIGHT_HIP]\n",
    "\n",
    "    shoulder_width = np.linalg.norm(\n",
    "        [left_shoulder.x - right_shoulder.x, left_shoulder.y - right_shoulder.y]\n",
    "    )\n",
    "    hip_width = np.linalg.norm(\n",
    "        [left_hip.x - right_hip.x, left_hip.y - right_hip.y]\n",
    "    )\n",
    "\n",
    "    print(\"어깨 너비:\", shoulder_width)\n",
    "    print(\"골반 너비:\", hip_width)\n",
    "    print(\"비율:\", shoulder_width / hip_width)"
   ]
  },
  {
   "cell_type": "code",
   "execution_count": null,
   "id": "5078f4f2",
   "metadata": {
    "vscode": {
     "languageId": "plaintext"
    }
   },
   "outputs": [],
   "source": [
    "# 시각화\n",
    "mp.solutions.drawing_utils.draw_landmarks(\n",
    "    img, result.pose_landmarks, mp_pose.POSE_CONNECTIONS)\n",
    "plt.imshow(cv2.cvtColor(img, cv2.COLOR_BGR2RGB))\n",
    "plt.title(\"Pose Landmarks\")\n",
    "plt.axis(\"off\")\n",
    "plt.show()"
   ]
  }
 ],
 "metadata": {
  "language_info": {
   "name": "python"
  }
 },
 "nbformat": 4,
 "nbformat_minor": 5
}
